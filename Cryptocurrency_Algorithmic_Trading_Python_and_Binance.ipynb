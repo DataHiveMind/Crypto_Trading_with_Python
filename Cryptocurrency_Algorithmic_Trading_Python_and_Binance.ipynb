{
  "nbformat": 4,
  "nbformat_minor": 0,
  "metadata": {
    "colab": {
      "provenance": []
    },
    "kernelspec": {
      "name": "python3",
      "display_name": "Python 3"
    },
    "language_info": {
      "name": "python"
    }
  },
  "cells": [
    {
      "cell_type": "code",
      "execution_count": null,
      "metadata": {
        "id": "QWznn6dYBgH6"
      },
      "outputs": [],
      "source": [
        "!pip install python-binance\n",
        "!pip install yfinance\n",
        "import pandas as pd\n",
        "import numpy as np\n",
        "import matplotlib.pyplot as plt\n",
        "import seaborn as sns\n",
        "import scipy \n",
        "import sklearn as sk\n",
        "from binance import ThreadedWebsockManger\n",
        "from binance.client import Client\n",
        "from datetime import datetime, timedelta"
      ]
    },
    {
      "cell_type": "markdown",
      "source": [
        "General account/system Info"
      ],
      "metadata": {
        "id": "JWa26YdNBWRi"
      }
    },
    {
      "cell_type": "code",
      "source": [
        "api_key = \"B5c6OfFGReHGporT9cjPJ\"\n",
        "secret_key = \"KHnfhemKkNNDJnekek\"\n",
        "\n",
        "client = Client(api_key = api_key, api_secret = secret_key, tld = \"us\")\n",
        "print(client)\n",
        "\n",
        "client.get_account()\n",
        "client.ping()\n",
        "client.get_system_status()\n",
        "\n",
        "account = client.get_account()\n",
        "print(account)\n",
        "print(account[\"accountType\"])\n",
        "\n",
        "pd.to_datatime(account[\"updateTime\"], unit = \"ms\")\n",
        "account[\"balances\"]\n",
        "\n",
        "df = pd.DataFrame(account[\"balances\"])\n",
        "print(df, df.info())\n",
        "\n",
        "df.free = pd.to_numeric(df.free, errors = \"coerce\")\n",
        "df.locked = pd.to_numeric(df.locked, errors = \"coerce\")\n",
        "print(\n",
        "  df.loc[df.free > 0],\n",
        "  client.get_asset_balance(asset = \"BTC\"),\n",
        "  client.get_asset_balance(asset = \"ETH\"),\n",
        "  float(client.get_asset_balance(asset = \"ETH\")[\"Free\"])\n",
        ")\n",
        "\n",
        "snap = client.get_account_snapshot(type = \"SPOT\")\n",
        "snap = pd.json_normalize(snap[\"snapshotVos\"])\n",
        "print(snap)\n",
        "\n",
        "snap[\"data.balances\"][0]\n",
        "client.get_exchange_info()[\"rateLimits\"]\n",
        "client.get_all_coins_info()\n",
        "\n",
        "coins = pd.DataFrame(client.get_all_coins_info())\n",
        "print(coins)\n",
        "\n",
        "coins.loc[coins.coin == \"BTC\"]\n",
        "coins.loc[coins.coin == \"EUR\"]\n",
        "\n",
        "client.get_trade_fee(symbol = \"BTCUSDT\")\n",
        "client.get_trade_fee(symbol = \"BTCEUR\")"
      ],
      "metadata": {
        "id": "waanjhCP7gF7"
      },
      "execution_count": null,
      "outputs": []
    },
    {
      "cell_type": "markdown",
      "source": [
        "Getting Market Data "
      ],
      "metadata": {
        "id": "_zOFJYgwJPxq"
      }
    },
    {
      "cell_type": "code",
      "source": [
        "client.get_symbol_ticker(symbol = \"BTCUSDT\")\n",
        "float(client.get_symbol_ticker(symbol = \"BTCEUR\")[\"prices\"])\n",
        "client.get_avg_price(symbol = \"BTCUSDT\")\n",
        "\n",
        "prices = client.get_all_tickers()\n",
        "print(prices)\n",
        "\n",
        "df = pd.DataFrame(prices)\n",
        "print(df)\n",
        "\n",
        "print(\n",
        "  df[df.symbol.str.contains(\"ETH\")],\n",
        "  df[df.symbol.str.contains(\"BTC\") & df.symbol.str.contains(\"USD\")],\n",
        "  df[df.symbol.str.contains(\"BTC\") & df.symbol.str.contains(\"EUR\")]\n",
        ")\n",
        "\n",
        "last24 = client.get_ticker(symbol = \"BTCUSDT\")\n",
        "\n",
        "print(\n",
        "    last24,\n",
        "    last24[\"openTime\"],\n",
        "    pd.to_datetime(last24[\"openTime\"], unit = \"ms\"),\n",
        "    pd.to_datetime(last24[\"closeTime\"], unit = \"ms\")\n",
        ")\n",
        "\n",
        "open_price = float(last24[\"closePrice\"])\n",
        "high_price = float(last24[\"highPrice\"])\n",
        "low_price = float(last24[\"lowPrice\"])\n",
        "close_price = float(last24[\"lastPrice\"])\n",
        "\n",
        "print(open_price, high_price, low_price)\n",
        "print(close_price - open_price)\n",
        "print((close_price/open_price - 1) * 100)"
      ],
      "metadata": {
        "id": "EhctOwKlFEBm"
      },
      "execution_count": null,
      "outputs": []
    },
    {
      "cell_type": "markdown",
      "source": [
        "Getting Historical Data(OHLC & Volume)"
      ],
      "metadata": {
        "id": "XhAd0yoRQdxg"
      }
    },
    {
      "cell_type": "code",
      "source": [
        "timestamp = client._get_earliest_vaild_timestamp(symbol = \"BTCUSDT\", intreval = \"id\")\n",
        "print(timestamp)\n",
        "print(pd.to_datetime(timestamp, unit = \"ms\"))\n",
        "\n",
        "bars = client.get_historical_kliness(symbol = \"BTCUSDT\", intreval = \"1d\", start_str = timestamp, limit = 1000)\n",
        "print(bars)\n",
        "\n",
        "df = pd.DataFrame(bars)\n",
        "print(df)\n",
        "\n",
        "df[\"Date\"] = pd.to_datetime(df.iloc[:,0], unit = \"ms\")\n",
        "print(df)\n",
        "\n",
        "df.columns = [\"open time\", \"open\", \"high\", \"low\", \"close\", \n",
        "              \"volume\", \"clos time\",  \"quote asset volume\",\n",
        "              \"number of trades\", \"taker buy base asset volume\",\n",
        "              \"ignore\", \"date\"]\n",
        "\n",
        "df = df[[\"Date\", \"Open\", \"high\", \"low\", \"close\", \"volume\"]].copy()\n",
        "print(df)\n",
        "\n",
        "df.set_index(\"Date\", inplace = True)\n",
        "print(df, df.info())\n",
        "\n",
        "for column in df.columns:\n",
        "  df[column] = pd.to_numeric(df[column], errors = \"coerce\")\n",
        "\n",
        "def get_history(symbol, intreval, start, end = None):\n",
        "  bars = client.get_historical_kliness(symbol = symbol, intreval = intreval, start_str = start, end_str = end ,limit = 1000)\n",
        "\n",
        "  df = pd.DataFrame(bars)\n",
        "  df[\"Date\"] = pd.to_datetime(df.iloc[:,0], unit = \"ms\")\n",
        "  df.columns = [\"open time\", \"open\", \"high\", \"low\", \"close\", \n",
        "              \"volume\", \"clos time\",  \"quote asset volume\",\n",
        "              \"number of trades\", \"taker buy base asset volume\",\n",
        "              \"ignore\", \"date\"]\n",
        "  df = df[[\"Date\", \"Open\", \"high\", \"low\", \"close\", \"volume\"]].copy()\n",
        "  df.set_index(\"Date\", inplace = True)\n",
        "  for column in df.columns:\n",
        "    df[column] = pd.to_numeric(df[column], errors = \"coerce\")\n",
        "\n",
        "  return df\n",
        "\n",
        "print(timestamp)\n",
        "\n",
        "df = get_history(symbol = \"BTCUSDT\", intreval = \"1d\", start = timestamp)\n",
        "print(df, df.info())\n",
        "\n",
        "df = get_history(symbol = \"BTCUSDT\", intreval = \"1d\", start = \"2021-01-04\", end = \"2021-06-30\") # per day\n",
        "print(df)\n",
        "\n",
        "df = get_history(symbol = \"BTCUSDT\", intreval = \"1w\", start = \"2021-01-01\", end = \"2021-06-30\") # per week\n",
        "print(df)\n",
        "\n",
        "df = get_history(symbol = \"BTCUSDT\", intreval = \"1m\", start = \"2021-01-04\", end = \"2021-06-30\") # per month\n",
        "print(df)\n",
        "\n",
        "df = get_history(symbol = \"BTCUSDT\", intreval = \"1h\", start = \"2021-01-04 10:00:00\", end = \"2021-06-30 16:00:00\") # per hour\n",
        "print(df)\n",
        "\n",
        "now = datetime.utcnow()\n",
        "print(now)\n",
        "\n",
        "two_hours_before = now - timedelta(hours = 2)\n",
        "print(two_hours_before)\n",
        "\n",
        "print(str(two_hours_before))\n",
        "\n",
        "df = get_history(symbol = \"BTCUSDT\", intreval = \"1m\", start = str(two_hours_before))\n",
        "print(df)"
      ],
      "metadata": {
        "id": "U0ytmumOJSoj"
      },
      "execution_count": null,
      "outputs": []
    },
    {
      "cell_type": "markdown",
      "source": [
        "Streaming Market Data "
      ],
      "metadata": {
        "id": "jkmb9JS9lMmd"
      }
    },
    {
      "cell_type": "code",
      "source": [
        "def stream_data(msg):\n",
        "  print(msg)\n",
        "\n",
        "twn = ThreadedWebsockManger(tld = \"us\")\n",
        "twn.start()\n",
        "print(twn)\n",
        "\n",
        "twn.start_symbol_miniticker_socket(callback = stream_data, symbol = \"BTCUSDT\")\n",
        "twn.stop()"
      ],
      "metadata": {
        "id": "_jhaVCek7gDe"
      },
      "execution_count": null,
      "outputs": []
    },
    {
      "cell_type": "markdown",
      "source": [
        "Collecting real-time Candles"
      ],
      "metadata": {
        "id": "bGvEdjht6_Qv"
      }
    },
    {
      "cell_type": "code",
      "source": [
        "df = pd.DataFrame(columns = [\"Open\", \"High\", \"Low\", \"Close\", \"volume\", \"Complete\"])\n",
        "print(df)\n",
        "\n",
        "def stream_candles(msg):\n",
        "  event_time = pd.to_datetime(msg[\"E\"], unit = \"ms\")\n",
        "  start_time = pd.to_datetime(msg[\"K\"][\"t\"], unit = \"ms\")\n",
        "  first = float(msg[\"k\"][\"o\"])\n",
        "  high = float(msg[\"k\"][\"h\"])\n",
        "  low = float(msg[\"k\"][\"l\"])\n",
        "  close = float[\"k\"][\"c\"]\n",
        "  volume = float(msg[\"k\"][\"v\"])\n",
        "  complete = msg[\"k\"][\"x\"]\n",
        "  print(\"Time: {} | Price: {}\".format(event_time, close))\n",
        "  df.loc[start_time] = [first, high, low, close, volume, complete]\n",
        "\n",
        "twn = ThreadedWebsocketManager(tld = \"us\")\n",
        "twn.start()\n",
        "\n",
        "twn.start_kline_socket(callback = stream_candles, symbol = \"BTCUSDT\", intreval = \"1m\")\n",
        "twn.stop()\n"
      ],
      "metadata": {
        "id": "Z8qyUNgJ7gBT"
      },
      "execution_count": null,
      "outputs": []
    },
    {
      "cell_type": "markdown",
      "source": [
        "Creating a Test order"
      ],
      "metadata": {
        "id": "f39NELg2Ta9E"
      }
    },
    {
      "cell_type": "code",
      "source": [
        "client = Client(api_key, api_secret = secret_key, tld = \"com\")\n",
        "order = client.create_test_order(symbol = \"BTCEUR\", side = \"BUY\", type = \"MARKET\", quantity = 0.1)\n",
        "print(order)\n",
        "\n",
        "client.get_account()"
      ],
      "metadata": {
        "id": "CrRrz9N27f9A"
      },
      "execution_count": null,
      "outputs": []
    },
    {
      "cell_type": "markdown",
      "source": [
        "Placing Limit Orders"
      ],
      "metadata": {
        "id": "8yCKTwAmFE-9"
      }
    },
    {
      "cell_type": "code",
      "source": [
        "# Buy Limit\n",
        "client.get_symbol_ticker(symbol = \"BTCUSDT\")\n",
        "\n",
        "order1 = client.create_order(symbol = \"BTCUSDT\", side = \"BUY\", type = \"Limit\", quantity = 0.1, timeInForce = \"GTC\", price = 50000)\n",
        "print(order1)\n",
        "\n",
        "order_id_buy = order1[\"orderId\"]\n",
        "print(order_id_buy)\n",
        "\n",
        "client.get_order(symbol = \"BTCUSDT\", orderId = order_id_buy)\n",
        "\n",
        "# Sell Limit\n",
        "order2 = client.create_order(symbol = \"BTCUSDT\", side = \"SELL\", type = \"Limit\", quantity = 0.1, timeInForce = \"GTC\", price = 50000)\n",
        "print(order2)\n",
        "\n",
        "order_id_sell = order2[\"orderId\"]\n",
        "print(order_id_sell)\n",
        "\n",
        "open_orders = client.get_open_orders(symbol = \"BTCUSDT\")\n",
        "print(open_orders)\n",
        "\n",
        "print(pd.DataFrame(open_orders))\n",
        "\n",
        "Bresult = client.cancel_order(symbol = \"BTCUSDT\", orderId = order_id_buy)\n",
        "print(Bresult)\n",
        "\n",
        "Sresult = client.cancel_order(symbol = \"BTCUSDT\", orderId = order_id_sell)\n",
        "print(Sresult)"
      ],
      "metadata": {
        "id": "oCWLeIRs7f6r"
      },
      "execution_count": null,
      "outputs": []
    },
    {
      "cell_type": "markdown",
      "source": [
        "Data Preparation"
      ],
      "metadata": {
        "id": "cnDzzyQN7gwO"
      }
    },
    {
      "cell_type": "code",
      "source": [
        "data = pd.read_csv('bitcoin.csv', parse_date = [\"Date\"], index_col = \"Date\")\n",
        "data['vol_ch'] = np.log(data.volume.div(data.Volume.shift(1)))\n",
        "print(data)\n",
        "\n",
        "data.vol_ch.plot(kind = \"hist\", bins = 100, figsize = (12,8))\n",
        "plt.show()\n",
        "\n",
        "data.vol_ch.nsmallest(20)\n",
        "data.vol_ch.nlargest(20)\n",
        "\n",
        "data.loc[data.vol_ch > 3, 'vol_ch'] = np.nan\n",
        "data.loc[data.vol_ch < -3, \"vol_ch\"] = np.nan\n",
        "\n",
        "print(data.info())"
      ],
      "metadata": {
        "id": "X0_mrBYz7f3V"
      },
      "execution_count": null,
      "outputs": []
    },
    {
      "cell_type": "markdown",
      "source": [
        "Explanatory Data Analysis: Finanical Returns and Trading Volume"
      ],
      "metadata": {
        "id": "wMYGUpB3SABP"
      }
    },
    {
      "cell_type": "code",
      "source": [
        "plt.scatter(x = data.vol_ch, y = data.returns)\n",
        "plt.xlabel(\"Volume Change\")\n",
        "plt.ylabel(\"Returns\")\n",
        "plt.show()\n",
        "\n",
        "pd.qcut(data.returns, q = 10)\n",
        "data[\"ret_cat\"] = pd.qcut(data.returns, q = 10, labels = [-5,-4,-3,-2,-1,1,2,3,4,5])\n",
        "print(data)\n",
        "\n",
        "data.ret_cat.value_counts()\n",
        "data[\"vol_cat\"] = pd.qcut(data.vol_ch, g = 10, labels = [-5,-4,-3,-2,-1,1,2,3,4,5])\n",
        "\n",
        "matrix = pd.crosstab(data.vol_cat, data.ret_cat)\n",
        "print(matrix)\n",
        "\n",
        "plt.figure(figsize = (12,8))\n",
        "sns.set(font_scale = 1)\n",
        "sns.heatmap(matrix, cmap = \"RdY1bu_r\", annot = True, robust = True, fmt = \".0f\")\n",
        "plt.show()\n",
        "\n",
        "data.vol_cat.shfit()\n",
        "matrix = pd.crosstab(data.vol_cat.shift(), data.ret_cat.shift(),\n",
        "                     values = data.returns, afffunc = np.mean)\n",
        "print(matrix)\n",
        "\n",
        "plt.figure(figsize = (15, 12))\n",
        "sns.set(font_scale = 1)\n",
        "sns.heatmap(matrix, cmap = \"RdY1bu_r\", annot = True, robust = True, fmt = \".5f\")\n",
        "plt.show()\n",
        "\n"
      ],
      "metadata": {
        "id": "4B1I9QmS7fkt"
      },
      "execution_count": null,
      "outputs": []
    },
    {
      "cell_type": "markdown",
      "source": [
        "Fromulating a Long-only Price/Volume Trading Strategy"
      ],
      "metadata": {
        "id": "pUf71fWFlw4g"
      }
    },
    {
      "cell_type": "code",
      "source": [
        "data[\"position\"] = 1\n",
        "print(data)\n",
        "\n",
        "return_thresh = np.percentlie(data.returns.dropna(), 90)\n",
        "print(return_thresh)\n",
        "\n",
        "condl = data.returns >= return_thresh\n",
        "print(condl)\n",
        "\n",
        "volume_thresh = np.percentlie(data.vol_ch.dropna(), [5,20])\n",
        "print(volume_thresh)\n",
        "\n",
        "cond2 = data.vol_ch.between(volume_thresh[0], volume_thresh[1])\n",
        "print(cond2)\n",
        "\n",
        "data.loc[condl & cond2, 'position'] = 0\n",
        "print(data)\n",
        "\n",
        "data.position.value_counts()\n",
        "print(data)\n",
        "\n",
        "data.loc[:, 'positon'].plot(figszie = (12, 8))\n",
        "plt.show()\n",
        "\n",
        "data.loc[\"2019-06\", \"postion\"].plot(figszie = (12,8))\n",
        "plt.show()"
      ],
      "metadata": {
        "id": "AnYP3RpjSF3g"
      },
      "execution_count": null,
      "outputs": []
    }
  ]
}